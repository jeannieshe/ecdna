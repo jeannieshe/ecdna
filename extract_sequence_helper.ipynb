{
 "cells": [
  {
   "cell_type": "code",
   "execution_count": 4,
   "id": "22e6c4bc-ddea-4893-a9ae-419b824297dc",
   "metadata": {},
   "outputs": [],
   "source": [
    "import argparse\n",
    "import pandas as pd\n",
    "import pysam"
   ]
  },
  {
   "cell_type": "code",
   "execution_count": 6,
   "id": "ed82f45a-cb00-442a-8d81-32b84b236c07",
   "metadata": {},
   "outputs": [],
   "source": [
    "path_to_result_table = \"/Users/jsl693/Downloads/D327_r1PlfL1_result_table.tsv\"\n",
    "result_table_df = pd.read_csv(path_to_result_table, sep='\\t')\n",
    "amp_type = \"ecDNA\"\n",
    "result_table_df = result_table_df[result_table_df['Classification'] == amp_type]\n",
    "# result_table_df.iloc[1,:]['Location']"
   ]
  },
  {
   "cell_type": "code",
   "execution_count": 8,
   "id": "90a6a367-4f0c-40b3-b9b2-ed1ecbc600bd",
   "metadata": {
    "scrolled": true
   },
   "outputs": [
    {
     "data": {
      "text/html": [
       "<div>\n",
       "<style scoped>\n",
       "    .dataframe tbody tr th:only-of-type {\n",
       "        vertical-align: middle;\n",
       "    }\n",
       "\n",
       "    .dataframe tbody tr th {\n",
       "        vertical-align: top;\n",
       "    }\n",
       "\n",
       "    .dataframe thead th {\n",
       "        text-align: right;\n",
       "    }\n",
       "</style>\n",
       "<table border=\"1\" class=\"dataframe\">\n",
       "  <thead>\n",
       "    <tr style=\"text-align: right;\">\n",
       "      <th></th>\n",
       "      <th>Sample name</th>\n",
       "      <th>AA amplicon number</th>\n",
       "      <th>Feature ID</th>\n",
       "      <th>Classification</th>\n",
       "      <th>Location</th>\n",
       "      <th>Oncogenes</th>\n",
       "      <th>All genes</th>\n",
       "      <th>Complexity score</th>\n",
       "      <th>ecDNA context</th>\n",
       "      <th>Captured interval length</th>\n",
       "      <th>...</th>\n",
       "      <th>Reference version</th>\n",
       "      <th>Tissue of origin</th>\n",
       "      <th>Sample type</th>\n",
       "      <th>Feature BED file</th>\n",
       "      <th>CNV BED file</th>\n",
       "      <th>AA PNG file</th>\n",
       "      <th>AA PDF file</th>\n",
       "      <th>AA summary file</th>\n",
       "      <th>Run metadata JSON</th>\n",
       "      <th>Sample metadata JSON</th>\n",
       "    </tr>\n",
       "  </thead>\n",
       "  <tbody>\n",
       "    <tr>\n",
       "      <th>0</th>\n",
       "      <td>D327_r1PlfL1</td>\n",
       "      <td>10</td>\n",
       "      <td>D327_r1PlfL1_amplicon10_ecDNA_1</td>\n",
       "      <td>ecDNA</td>\n",
       "      <td>['chr19:16515882-16600861', 'chr19:16602467-16...</td>\n",
       "      <td>[]</td>\n",
       "      <td>['CHERP', 'MED26', 'SLC35E1', 'SMIM7', 'TMEM38A']</td>\n",
       "      <td>0.470225</td>\n",
       "      <td>Unknown</td>\n",
       "      <td>154230</td>\n",
       "      <td>...</td>\n",
       "      <td>GRCh38</td>\n",
       "      <td>NaN</td>\n",
       "      <td>NaN</td>\n",
       "      <td>/home/jeannie/group/OvCa_Genomic_Data/WGS_merg...</td>\n",
       "      <td>/home/jeannie/group/OvCa_Genomic_Data/WGS_merg...</td>\n",
       "      <td>/isilonsund/NextGenSeqData/project-data/groups...</td>\n",
       "      <td>/isilonsund/NextGenSeqData/project-data/groups...</td>\n",
       "      <td>/isilonsund/NextGenSeqData/project-data/groups...</td>\n",
       "      <td>/home/jeannie/group/OvCa_Genomic_Data/WGS_merg...</td>\n",
       "      <td>/home/jeannie/group/OvCa_Genomic_Data/WGS_merg...</td>\n",
       "    </tr>\n",
       "    <tr>\n",
       "      <th>1</th>\n",
       "      <td>D327_r1PlfL1</td>\n",
       "      <td>11</td>\n",
       "      <td>D327_r1PlfL1_amplicon11_ecDNA_1</td>\n",
       "      <td>ecDNA</td>\n",
       "      <td>['chr20:32679322-32723074', 'chr20:32724971-32...</td>\n",
       "      <td>['MAPRE1']</td>\n",
       "      <td>['COMMD7', 'DNMT3B', 'EFCAB8', 'MAPRE1']</td>\n",
       "      <td>0.947631</td>\n",
       "      <td>Simple circular simple background</td>\n",
       "      <td>186563</td>\n",
       "      <td>...</td>\n",
       "      <td>GRCh38</td>\n",
       "      <td>NaN</td>\n",
       "      <td>NaN</td>\n",
       "      <td>/home/jeannie/group/OvCa_Genomic_Data/WGS_merg...</td>\n",
       "      <td>/home/jeannie/group/OvCa_Genomic_Data/WGS_merg...</td>\n",
       "      <td>/isilonsund/NextGenSeqData/project-data/groups...</td>\n",
       "      <td>/isilonsund/NextGenSeqData/project-data/groups...</td>\n",
       "      <td>/isilonsund/NextGenSeqData/project-data/groups...</td>\n",
       "      <td>/home/jeannie/group/OvCa_Genomic_Data/WGS_merg...</td>\n",
       "      <td>/home/jeannie/group/OvCa_Genomic_Data/WGS_merg...</td>\n",
       "    </tr>\n",
       "    <tr>\n",
       "      <th>3</th>\n",
       "      <td>D327_r1PlfL1</td>\n",
       "      <td>2</td>\n",
       "      <td>D327_r1PlfL1_amplicon2_ecDNA_1</td>\n",
       "      <td>ecDNA</td>\n",
       "      <td>['chr4:139399123-139620792']</td>\n",
       "      <td>[]</td>\n",
       "      <td>['RAB33B', 'SETD7']</td>\n",
       "      <td>0.412226</td>\n",
       "      <td>Unknown</td>\n",
       "      <td>221669</td>\n",
       "      <td>...</td>\n",
       "      <td>GRCh38</td>\n",
       "      <td>NaN</td>\n",
       "      <td>NaN</td>\n",
       "      <td>/home/jeannie/group/OvCa_Genomic_Data/WGS_merg...</td>\n",
       "      <td>/home/jeannie/group/OvCa_Genomic_Data/WGS_merg...</td>\n",
       "      <td>/isilonsund/NextGenSeqData/project-data/groups...</td>\n",
       "      <td>/isilonsund/NextGenSeqData/project-data/groups...</td>\n",
       "      <td>/isilonsund/NextGenSeqData/project-data/groups...</td>\n",
       "      <td>/home/jeannie/group/OvCa_Genomic_Data/WGS_merg...</td>\n",
       "      <td>/home/jeannie/group/OvCa_Genomic_Data/WGS_merg...</td>\n",
       "    </tr>\n",
       "    <tr>\n",
       "      <th>9</th>\n",
       "      <td>D327_r1PlfL1</td>\n",
       "      <td>8</td>\n",
       "      <td>D327_r1PlfL1_amplicon8_ecDNA_1</td>\n",
       "      <td>ecDNA</td>\n",
       "      <td>['chr11:72141093-72218565']</td>\n",
       "      <td>[]</td>\n",
       "      <td>['FOLR1', 'FOLR2']</td>\n",
       "      <td>0.660127</td>\n",
       "      <td>Simple circular simple background</td>\n",
       "      <td>77472</td>\n",
       "      <td>...</td>\n",
       "      <td>GRCh38</td>\n",
       "      <td>NaN</td>\n",
       "      <td>NaN</td>\n",
       "      <td>/home/jeannie/group/OvCa_Genomic_Data/WGS_merg...</td>\n",
       "      <td>/home/jeannie/group/OvCa_Genomic_Data/WGS_merg...</td>\n",
       "      <td>/isilonsund/NextGenSeqData/project-data/groups...</td>\n",
       "      <td>/isilonsund/NextGenSeqData/project-data/groups...</td>\n",
       "      <td>/isilonsund/NextGenSeqData/project-data/groups...</td>\n",
       "      <td>/home/jeannie/group/OvCa_Genomic_Data/WGS_merg...</td>\n",
       "      <td>/home/jeannie/group/OvCa_Genomic_Data/WGS_merg...</td>\n",
       "    </tr>\n",
       "  </tbody>\n",
       "</table>\n",
       "<p>4 rows × 23 columns</p>\n",
       "</div>"
      ],
      "text/plain": [
       "    Sample name  AA amplicon number                       Feature ID  \\\n",
       "0  D327_r1PlfL1                  10  D327_r1PlfL1_amplicon10_ecDNA_1   \n",
       "1  D327_r1PlfL1                  11  D327_r1PlfL1_amplicon11_ecDNA_1   \n",
       "3  D327_r1PlfL1                   2   D327_r1PlfL1_amplicon2_ecDNA_1   \n",
       "9  D327_r1PlfL1                   8   D327_r1PlfL1_amplicon8_ecDNA_1   \n",
       "\n",
       "  Classification                                           Location  \\\n",
       "0          ecDNA  ['chr19:16515882-16600861', 'chr19:16602467-16...   \n",
       "1          ecDNA  ['chr20:32679322-32723074', 'chr20:32724971-32...   \n",
       "3          ecDNA                       ['chr4:139399123-139620792']   \n",
       "9          ecDNA                        ['chr11:72141093-72218565']   \n",
       "\n",
       "    Oncogenes                                          All genes  \\\n",
       "0          []  ['CHERP', 'MED26', 'SLC35E1', 'SMIM7', 'TMEM38A']   \n",
       "1  ['MAPRE1']           ['COMMD7', 'DNMT3B', 'EFCAB8', 'MAPRE1']   \n",
       "3          []                                ['RAB33B', 'SETD7']   \n",
       "9          []                                 ['FOLR1', 'FOLR2']   \n",
       "\n",
       "   Complexity score                      ecDNA context  \\\n",
       "0          0.470225                            Unknown   \n",
       "1          0.947631  Simple circular simple background   \n",
       "3          0.412226                            Unknown   \n",
       "9          0.660127  Simple circular simple background   \n",
       "\n",
       "   Captured interval length  ...  Reference version  Tissue of origin  \\\n",
       "0                    154230  ...             GRCh38               NaN   \n",
       "1                    186563  ...             GRCh38               NaN   \n",
       "3                    221669  ...             GRCh38               NaN   \n",
       "9                     77472  ...             GRCh38               NaN   \n",
       "\n",
       "  Sample type                                   Feature BED file  \\\n",
       "0         NaN  /home/jeannie/group/OvCa_Genomic_Data/WGS_merg...   \n",
       "1         NaN  /home/jeannie/group/OvCa_Genomic_Data/WGS_merg...   \n",
       "3         NaN  /home/jeannie/group/OvCa_Genomic_Data/WGS_merg...   \n",
       "9         NaN  /home/jeannie/group/OvCa_Genomic_Data/WGS_merg...   \n",
       "\n",
       "                                        CNV BED file  \\\n",
       "0  /home/jeannie/group/OvCa_Genomic_Data/WGS_merg...   \n",
       "1  /home/jeannie/group/OvCa_Genomic_Data/WGS_merg...   \n",
       "3  /home/jeannie/group/OvCa_Genomic_Data/WGS_merg...   \n",
       "9  /home/jeannie/group/OvCa_Genomic_Data/WGS_merg...   \n",
       "\n",
       "                                         AA PNG file  \\\n",
       "0  /isilonsund/NextGenSeqData/project-data/groups...   \n",
       "1  /isilonsund/NextGenSeqData/project-data/groups...   \n",
       "3  /isilonsund/NextGenSeqData/project-data/groups...   \n",
       "9  /isilonsund/NextGenSeqData/project-data/groups...   \n",
       "\n",
       "                                         AA PDF file  \\\n",
       "0  /isilonsund/NextGenSeqData/project-data/groups...   \n",
       "1  /isilonsund/NextGenSeqData/project-data/groups...   \n",
       "3  /isilonsund/NextGenSeqData/project-data/groups...   \n",
       "9  /isilonsund/NextGenSeqData/project-data/groups...   \n",
       "\n",
       "                                     AA summary file  \\\n",
       "0  /isilonsund/NextGenSeqData/project-data/groups...   \n",
       "1  /isilonsund/NextGenSeqData/project-data/groups...   \n",
       "3  /isilonsund/NextGenSeqData/project-data/groups...   \n",
       "9  /isilonsund/NextGenSeqData/project-data/groups...   \n",
       "\n",
       "                                   Run metadata JSON  \\\n",
       "0  /home/jeannie/group/OvCa_Genomic_Data/WGS_merg...   \n",
       "1  /home/jeannie/group/OvCa_Genomic_Data/WGS_merg...   \n",
       "3  /home/jeannie/group/OvCa_Genomic_Data/WGS_merg...   \n",
       "9  /home/jeannie/group/OvCa_Genomic_Data/WGS_merg...   \n",
       "\n",
       "                                Sample metadata JSON  \n",
       "0  /home/jeannie/group/OvCa_Genomic_Data/WGS_merg...  \n",
       "1  /home/jeannie/group/OvCa_Genomic_Data/WGS_merg...  \n",
       "3  /home/jeannie/group/OvCa_Genomic_Data/WGS_merg...  \n",
       "9  /home/jeannie/group/OvCa_Genomic_Data/WGS_merg...  \n",
       "\n",
       "[4 rows x 23 columns]"
      ]
     },
     "execution_count": 8,
     "metadata": {},
     "output_type": "execute_result"
    }
   ],
   "source": [
    "result_table_df"
   ]
  },
  {
   "cell_type": "code",
   "execution_count": 10,
   "id": "5d309554-e492-4538-9a42-770842e9be1e",
   "metadata": {},
   "outputs": [],
   "source": [
    "filtered_amplicons = list(result_table_df.loc[:, 'AA amplicon number'])\n",
    "filtered_amplicons.sort()"
   ]
  },
  {
   "cell_type": "code",
   "execution_count": 12,
   "id": "604974cb-0238-4d81-95be-8a3b3df031ab",
   "metadata": {},
   "outputs": [
    {
     "data": {
      "text/plain": [
       "[2, 8, 10, 11]"
      ]
     },
     "execution_count": 12,
     "metadata": {},
     "output_type": "execute_result"
    }
   ],
   "source": [
    "filtered_amplicons"
   ]
  },
  {
   "cell_type": "code",
   "execution_count": 12,
   "id": "1e21efe9-9090-41ec-baca-2f082ade136b",
   "metadata": {},
   "outputs": [
    {
     "data": {
      "text/plain": [
       "True"
      ]
     },
     "execution_count": 12,
     "metadata": {},
     "output_type": "execute_result"
    }
   ],
   "source": [
    "isinstance(filtered_amplicons[1], int)"
   ]
  },
  {
   "cell_type": "code",
   "execution_count": 55,
   "id": "23c91d9c-b75d-4a14-b84c-55ac2e068447",
   "metadata": {},
   "outputs": [],
   "source": [
    "directory = \"/home/jeannie/group/OvCa_Genomic_Data/WGS_merged/D327_r1PlfL1\"\n",
    "sample = \"D327_r1PlfL1\"\n",
    "i=0\n",
    "amp_type = \"ecDNA\"\n",
    "\n",
    "path_to_bed_folder = directory + \"/\" + sample + \"_output/\" + sample + \"_classification/\" + sample + \"_classification_bed_files/\"\n",
    "path_to_bed_file = path_to_bed_folder + sample + \"_amplicon\" + str(filtered_amplicons[i]) + \"_\" + amp_type + \"_1_intervals.bed\""
   ]
  },
  {
   "cell_type": "code",
   "execution_count": 57,
   "id": "e6231f43-4b2c-4782-83bd-519e970c1d0e",
   "metadata": {},
   "outputs": [
    {
     "data": {
      "text/html": [
       "<div>\n",
       "<style scoped>\n",
       "    .dataframe tbody tr th:only-of-type {\n",
       "        vertical-align: middle;\n",
       "    }\n",
       "\n",
       "    .dataframe tbody tr th {\n",
       "        vertical-align: top;\n",
       "    }\n",
       "\n",
       "    .dataframe thead th {\n",
       "        text-align: right;\n",
       "    }\n",
       "</style>\n",
       "<table border=\"1\" class=\"dataframe\">\n",
       "  <thead>\n",
       "    <tr style=\"text-align: right;\">\n",
       "      <th></th>\n",
       "      <th>0</th>\n",
       "      <th>1</th>\n",
       "      <th>2</th>\n",
       "    </tr>\n",
       "  </thead>\n",
       "  <tbody>\n",
       "    <tr>\n",
       "      <th>0</th>\n",
       "      <td>chr4</td>\n",
       "      <td>139399123</td>\n",
       "      <td>139620792</td>\n",
       "    </tr>\n",
       "  </tbody>\n",
       "</table>\n",
       "</div>"
      ],
      "text/plain": [
       "      0          1          2\n",
       "0  chr4  139399123  139620792"
      ]
     },
     "execution_count": 57,
     "metadata": {},
     "output_type": "execute_result"
    }
   ],
   "source": [
    "path_to_bed_file = \"/Users/jsl693/Downloads/D327_r1PlfL1_classification_bed_files/D327_r1PlfL1_amplicon2_ecDNA_1_intervals.bed\"\n",
    "bed = pd.read_csv(path_to_bed_file, sep='\\t')\n",
    "bed"
   ]
  },
  {
   "cell_type": "code",
   "execution_count": 75,
   "id": "bac4b86e-d500-45f5-b9bc-7bfd399aeeb8",
   "metadata": {},
   "outputs": [
    {
     "ename": "OSError",
     "evalue": "no BGZF EOF marker; file may be truncated",
     "output_type": "error",
     "traceback": [
      "\u001b[0;31m---------------------------------------------------------------------------\u001b[0m",
      "\u001b[0;31mOSError\u001b[0m                                   Traceback (most recent call last)",
      "Cell \u001b[0;32mIn[75], line 2\u001b[0m\n\u001b[1;32m      1\u001b[0m path_to_bam_file \u001b[38;5;241m=\u001b[39m \u001b[38;5;124m\"\u001b[39m\u001b[38;5;124m/Users/jsl693/Downloads/D327_r1PlfL1.cs.rmdup.bam\u001b[39m\u001b[38;5;124m\"\u001b[39m\n\u001b[0;32m----> 2\u001b[0m imported \u001b[38;5;241m=\u001b[39m pysam\u001b[38;5;241m.\u001b[39mAlignmentFile(path_to_bam_file, mode \u001b[38;5;241m=\u001b[39m \u001b[38;5;124m'\u001b[39m\u001b[38;5;124mrb\u001b[39m\u001b[38;5;124m'\u001b[39m)\n",
      "File \u001b[0;32m/opt/anaconda3/lib/python3.11/site-packages/pysam/libcalignmentfile.pyx:751\u001b[0m, in \u001b[0;36mpysam.libcalignmentfile.AlignmentFile.__cinit__\u001b[0;34m()\u001b[0m\n",
      "File \u001b[0;32m/opt/anaconda3/lib/python3.11/site-packages/pysam/libcalignmentfile.pyx:961\u001b[0m, in \u001b[0;36mpysam.libcalignmentfile.AlignmentFile._open\u001b[0;34m()\u001b[0m\n",
      "File \u001b[0;32m/opt/anaconda3/lib/python3.11/site-packages/pysam/libchtslib.pyx:361\u001b[0m, in \u001b[0;36mpysam.libchtslib.HTSFile.check_truncation\u001b[0;34m()\u001b[0m\n",
      "\u001b[0;31mOSError\u001b[0m: no BGZF EOF marker; file may be truncated"
     ]
    }
   ],
   "source": [
    "path_to_bam_file = \"/Users/jsl693/Downloads/D327_r1PlfL1.cs.rmdup.bam\"\n",
    "imported = pysam.AlignmentFile(path_to_bam_file, mode = 'rb')"
   ]
  },
  {
   "cell_type": "code",
   "execution_count": null,
   "id": "5c65397c-b382-4a01-9797-877ccd7579e7",
   "metadata": {},
   "outputs": [],
   "source": [
    "for i in filtered_amplicons:\n",
    "    path_to_bed_file = path_to_bed_folder + sample + \"_amplicon\" + str(filtered_amplicons[i]) + \"_\" + amp_type + \"_1_intervals.bed\"\n",
    "    curr_bed = pd.read_csv(path_to_bed_file, sep='\\t', header=None)\n",
    "\n",
    "    new_bam = path_to_bed_folder + sample + \"_amplicon\" + str(filtered_amplicons[i]) + \"_\" + amp_type + \"_1_intervals.bam\"\n",
    "    new_bam_index = new_bam + \".bai\"\n",
    "\n",
    "    # for i in range(len(curr_bed)):\n",
    "    #     #focus on only one of the ecDNAs, extract regions\n",
    "    #     regions = []\n",
    "    #     line = curr_bed.iloc[i, :]\n",
    "    #     curr = line[0][3:] + \":\" + line[1] + \"-\" + line[2]\n",
    "    #     regions.append(curr)\n",
    "\n",
    "    # alignments = []\n",
    "    # for region in regions:\n",
    "    #     bam = imported.fetch(region = region, until_eof = True)\n",
    "    #     alignments.extend([alignment for alignment in bam])\n",
    "\n",
    "    region_reads = pysam.view(\"-b\", \"-h\", \"-L\", path_to_bed_file, path_to_bam_file, \">\", new_bam, catch_stdout=False)\n",
    "    pysam.index(new_bam, new_bam_index)"
   ]
  },
  {
   "cell_type": "code",
   "execution_count": null,
   "id": "fedce9e0-a939-4e22-a6f3-8846dd9b1a25",
   "metadata": {},
   "outputs": [],
   "source": [
    "result_table_df = pd.read_csv(path_to_result_table, sep='\\t')\n",
    "result_table_df = result_table_df[result_table_df['Classification'] == amp_type]"
   ]
  },
  {
   "cell_type": "code",
   "execution_count": 14,
   "id": "79654055-6d61-4e28-8b94-271611315837",
   "metadata": {},
   "outputs": [
    {
     "ename": "FileNotFoundError",
     "evalue": "[Errno 2] No such file or directory: '/home/jeannie/group/OvCa_Genomic_Data/WGS_merged/D327_r1PlfL1/D327_r1PlfL1_output/D327_r1PlfL1_classification/D327_r1PlfL1_result_table.tsv'",
     "output_type": "error",
     "traceback": [
      "\u001b[0;31m---------------------------------------------------------------------------\u001b[0m",
      "\u001b[0;31mFileNotFoundError\u001b[0m                         Traceback (most recent call last)",
      "Cell \u001b[0;32mIn[14], line 2\u001b[0m\n\u001b[1;32m      1\u001b[0m path_to_result_table \u001b[38;5;241m=\u001b[39m \u001b[38;5;124m\"\u001b[39m\u001b[38;5;124m/home/jeannie/group/OvCa_Genomic_Data/WGS_merged/D327_r1PlfL1/D327_r1PlfL1_output/D327_r1PlfL1_classification/D327_r1PlfL1_result_table.tsv\u001b[39m\u001b[38;5;124m\"\u001b[39m\n\u001b[0;32m----> 2\u001b[0m result_table_df \u001b[38;5;241m=\u001b[39m pd\u001b[38;5;241m.\u001b[39mread_csv(path_to_result_table, sep\u001b[38;5;241m=\u001b[39m\u001b[38;5;124m'\u001b[39m\u001b[38;5;130;01m\\t\u001b[39;00m\u001b[38;5;124m'\u001b[39m)\n\u001b[1;32m      3\u001b[0m result_table_df \u001b[38;5;241m=\u001b[39m result_table_df[result_table_df[\u001b[38;5;124m'\u001b[39m\u001b[38;5;124mClassification\u001b[39m\u001b[38;5;124m'\u001b[39m] \u001b[38;5;241m==\u001b[39m amp_type]\n\u001b[1;32m      4\u001b[0m filtered_amplicons \u001b[38;5;241m=\u001b[39m \u001b[38;5;28mlist\u001b[39m(result_table_df\u001b[38;5;241m.\u001b[39mloc[:, \u001b[38;5;124m'\u001b[39m\u001b[38;5;124mAA amplicon number\u001b[39m\u001b[38;5;124m'\u001b[39m])\n",
      "File \u001b[0;32m/opt/anaconda3/lib/python3.11/site-packages/pandas/io/parsers/readers.py:948\u001b[0m, in \u001b[0;36mread_csv\u001b[0;34m(filepath_or_buffer, sep, delimiter, header, names, index_col, usecols, dtype, engine, converters, true_values, false_values, skipinitialspace, skiprows, skipfooter, nrows, na_values, keep_default_na, na_filter, verbose, skip_blank_lines, parse_dates, infer_datetime_format, keep_date_col, date_parser, date_format, dayfirst, cache_dates, iterator, chunksize, compression, thousands, decimal, lineterminator, quotechar, quoting, doublequote, escapechar, comment, encoding, encoding_errors, dialect, on_bad_lines, delim_whitespace, low_memory, memory_map, float_precision, storage_options, dtype_backend)\u001b[0m\n\u001b[1;32m    935\u001b[0m kwds_defaults \u001b[38;5;241m=\u001b[39m _refine_defaults_read(\n\u001b[1;32m    936\u001b[0m     dialect,\n\u001b[1;32m    937\u001b[0m     delimiter,\n\u001b[0;32m   (...)\u001b[0m\n\u001b[1;32m    944\u001b[0m     dtype_backend\u001b[38;5;241m=\u001b[39mdtype_backend,\n\u001b[1;32m    945\u001b[0m )\n\u001b[1;32m    946\u001b[0m kwds\u001b[38;5;241m.\u001b[39mupdate(kwds_defaults)\n\u001b[0;32m--> 948\u001b[0m \u001b[38;5;28;01mreturn\u001b[39;00m _read(filepath_or_buffer, kwds)\n",
      "File \u001b[0;32m/opt/anaconda3/lib/python3.11/site-packages/pandas/io/parsers/readers.py:611\u001b[0m, in \u001b[0;36m_read\u001b[0;34m(filepath_or_buffer, kwds)\u001b[0m\n\u001b[1;32m    608\u001b[0m _validate_names(kwds\u001b[38;5;241m.\u001b[39mget(\u001b[38;5;124m\"\u001b[39m\u001b[38;5;124mnames\u001b[39m\u001b[38;5;124m\"\u001b[39m, \u001b[38;5;28;01mNone\u001b[39;00m))\n\u001b[1;32m    610\u001b[0m \u001b[38;5;66;03m# Create the parser.\u001b[39;00m\n\u001b[0;32m--> 611\u001b[0m parser \u001b[38;5;241m=\u001b[39m TextFileReader(filepath_or_buffer, \u001b[38;5;241m*\u001b[39m\u001b[38;5;241m*\u001b[39mkwds)\n\u001b[1;32m    613\u001b[0m \u001b[38;5;28;01mif\u001b[39;00m chunksize \u001b[38;5;129;01mor\u001b[39;00m iterator:\n\u001b[1;32m    614\u001b[0m     \u001b[38;5;28;01mreturn\u001b[39;00m parser\n",
      "File \u001b[0;32m/opt/anaconda3/lib/python3.11/site-packages/pandas/io/parsers/readers.py:1448\u001b[0m, in \u001b[0;36mTextFileReader.__init__\u001b[0;34m(self, f, engine, **kwds)\u001b[0m\n\u001b[1;32m   1445\u001b[0m     \u001b[38;5;28mself\u001b[39m\u001b[38;5;241m.\u001b[39moptions[\u001b[38;5;124m\"\u001b[39m\u001b[38;5;124mhas_index_names\u001b[39m\u001b[38;5;124m\"\u001b[39m] \u001b[38;5;241m=\u001b[39m kwds[\u001b[38;5;124m\"\u001b[39m\u001b[38;5;124mhas_index_names\u001b[39m\u001b[38;5;124m\"\u001b[39m]\n\u001b[1;32m   1447\u001b[0m \u001b[38;5;28mself\u001b[39m\u001b[38;5;241m.\u001b[39mhandles: IOHandles \u001b[38;5;241m|\u001b[39m \u001b[38;5;28;01mNone\u001b[39;00m \u001b[38;5;241m=\u001b[39m \u001b[38;5;28;01mNone\u001b[39;00m\n\u001b[0;32m-> 1448\u001b[0m \u001b[38;5;28mself\u001b[39m\u001b[38;5;241m.\u001b[39m_engine \u001b[38;5;241m=\u001b[39m \u001b[38;5;28mself\u001b[39m\u001b[38;5;241m.\u001b[39m_make_engine(f, \u001b[38;5;28mself\u001b[39m\u001b[38;5;241m.\u001b[39mengine)\n",
      "File \u001b[0;32m/opt/anaconda3/lib/python3.11/site-packages/pandas/io/parsers/readers.py:1705\u001b[0m, in \u001b[0;36mTextFileReader._make_engine\u001b[0;34m(self, f, engine)\u001b[0m\n\u001b[1;32m   1703\u001b[0m     \u001b[38;5;28;01mif\u001b[39;00m \u001b[38;5;124m\"\u001b[39m\u001b[38;5;124mb\u001b[39m\u001b[38;5;124m\"\u001b[39m \u001b[38;5;129;01mnot\u001b[39;00m \u001b[38;5;129;01min\u001b[39;00m mode:\n\u001b[1;32m   1704\u001b[0m         mode \u001b[38;5;241m+\u001b[39m\u001b[38;5;241m=\u001b[39m \u001b[38;5;124m\"\u001b[39m\u001b[38;5;124mb\u001b[39m\u001b[38;5;124m\"\u001b[39m\n\u001b[0;32m-> 1705\u001b[0m \u001b[38;5;28mself\u001b[39m\u001b[38;5;241m.\u001b[39mhandles \u001b[38;5;241m=\u001b[39m get_handle(\n\u001b[1;32m   1706\u001b[0m     f,\n\u001b[1;32m   1707\u001b[0m     mode,\n\u001b[1;32m   1708\u001b[0m     encoding\u001b[38;5;241m=\u001b[39m\u001b[38;5;28mself\u001b[39m\u001b[38;5;241m.\u001b[39moptions\u001b[38;5;241m.\u001b[39mget(\u001b[38;5;124m\"\u001b[39m\u001b[38;5;124mencoding\u001b[39m\u001b[38;5;124m\"\u001b[39m, \u001b[38;5;28;01mNone\u001b[39;00m),\n\u001b[1;32m   1709\u001b[0m     compression\u001b[38;5;241m=\u001b[39m\u001b[38;5;28mself\u001b[39m\u001b[38;5;241m.\u001b[39moptions\u001b[38;5;241m.\u001b[39mget(\u001b[38;5;124m\"\u001b[39m\u001b[38;5;124mcompression\u001b[39m\u001b[38;5;124m\"\u001b[39m, \u001b[38;5;28;01mNone\u001b[39;00m),\n\u001b[1;32m   1710\u001b[0m     memory_map\u001b[38;5;241m=\u001b[39m\u001b[38;5;28mself\u001b[39m\u001b[38;5;241m.\u001b[39moptions\u001b[38;5;241m.\u001b[39mget(\u001b[38;5;124m\"\u001b[39m\u001b[38;5;124mmemory_map\u001b[39m\u001b[38;5;124m\"\u001b[39m, \u001b[38;5;28;01mFalse\u001b[39;00m),\n\u001b[1;32m   1711\u001b[0m     is_text\u001b[38;5;241m=\u001b[39mis_text,\n\u001b[1;32m   1712\u001b[0m     errors\u001b[38;5;241m=\u001b[39m\u001b[38;5;28mself\u001b[39m\u001b[38;5;241m.\u001b[39moptions\u001b[38;5;241m.\u001b[39mget(\u001b[38;5;124m\"\u001b[39m\u001b[38;5;124mencoding_errors\u001b[39m\u001b[38;5;124m\"\u001b[39m, \u001b[38;5;124m\"\u001b[39m\u001b[38;5;124mstrict\u001b[39m\u001b[38;5;124m\"\u001b[39m),\n\u001b[1;32m   1713\u001b[0m     storage_options\u001b[38;5;241m=\u001b[39m\u001b[38;5;28mself\u001b[39m\u001b[38;5;241m.\u001b[39moptions\u001b[38;5;241m.\u001b[39mget(\u001b[38;5;124m\"\u001b[39m\u001b[38;5;124mstorage_options\u001b[39m\u001b[38;5;124m\"\u001b[39m, \u001b[38;5;28;01mNone\u001b[39;00m),\n\u001b[1;32m   1714\u001b[0m )\n\u001b[1;32m   1715\u001b[0m \u001b[38;5;28;01massert\u001b[39;00m \u001b[38;5;28mself\u001b[39m\u001b[38;5;241m.\u001b[39mhandles \u001b[38;5;129;01mis\u001b[39;00m \u001b[38;5;129;01mnot\u001b[39;00m \u001b[38;5;28;01mNone\u001b[39;00m\n\u001b[1;32m   1716\u001b[0m f \u001b[38;5;241m=\u001b[39m \u001b[38;5;28mself\u001b[39m\u001b[38;5;241m.\u001b[39mhandles\u001b[38;5;241m.\u001b[39mhandle\n",
      "File \u001b[0;32m/opt/anaconda3/lib/python3.11/site-packages/pandas/io/common.py:863\u001b[0m, in \u001b[0;36mget_handle\u001b[0;34m(path_or_buf, mode, encoding, compression, memory_map, is_text, errors, storage_options)\u001b[0m\n\u001b[1;32m    858\u001b[0m \u001b[38;5;28;01melif\u001b[39;00m \u001b[38;5;28misinstance\u001b[39m(handle, \u001b[38;5;28mstr\u001b[39m):\n\u001b[1;32m    859\u001b[0m     \u001b[38;5;66;03m# Check whether the filename is to be opened in binary mode.\u001b[39;00m\n\u001b[1;32m    860\u001b[0m     \u001b[38;5;66;03m# Binary mode does not support 'encoding' and 'newline'.\u001b[39;00m\n\u001b[1;32m    861\u001b[0m     \u001b[38;5;28;01mif\u001b[39;00m ioargs\u001b[38;5;241m.\u001b[39mencoding \u001b[38;5;129;01mand\u001b[39;00m \u001b[38;5;124m\"\u001b[39m\u001b[38;5;124mb\u001b[39m\u001b[38;5;124m\"\u001b[39m \u001b[38;5;129;01mnot\u001b[39;00m \u001b[38;5;129;01min\u001b[39;00m ioargs\u001b[38;5;241m.\u001b[39mmode:\n\u001b[1;32m    862\u001b[0m         \u001b[38;5;66;03m# Encoding\u001b[39;00m\n\u001b[0;32m--> 863\u001b[0m         handle \u001b[38;5;241m=\u001b[39m \u001b[38;5;28mopen\u001b[39m(\n\u001b[1;32m    864\u001b[0m             handle,\n\u001b[1;32m    865\u001b[0m             ioargs\u001b[38;5;241m.\u001b[39mmode,\n\u001b[1;32m    866\u001b[0m             encoding\u001b[38;5;241m=\u001b[39mioargs\u001b[38;5;241m.\u001b[39mencoding,\n\u001b[1;32m    867\u001b[0m             errors\u001b[38;5;241m=\u001b[39merrors,\n\u001b[1;32m    868\u001b[0m             newline\u001b[38;5;241m=\u001b[39m\u001b[38;5;124m\"\u001b[39m\u001b[38;5;124m\"\u001b[39m,\n\u001b[1;32m    869\u001b[0m         )\n\u001b[1;32m    870\u001b[0m     \u001b[38;5;28;01melse\u001b[39;00m:\n\u001b[1;32m    871\u001b[0m         \u001b[38;5;66;03m# Binary mode\u001b[39;00m\n\u001b[1;32m    872\u001b[0m         handle \u001b[38;5;241m=\u001b[39m \u001b[38;5;28mopen\u001b[39m(handle, ioargs\u001b[38;5;241m.\u001b[39mmode)\n",
      "\u001b[0;31mFileNotFoundError\u001b[0m: [Errno 2] No such file or directory: '/home/jeannie/group/OvCa_Genomic_Data/WGS_merged/D327_r1PlfL1/D327_r1PlfL1_output/D327_r1PlfL1_classification/D327_r1PlfL1_result_table.tsv'"
     ]
    }
   ],
   "source": [
    "import pandas as pd\n",
    "import pysam\n",
    "import os\n",
    "amp_type = \"ecDNA\"\n",
    "sample = \"D327_r1PlfL1\"\n",
    "parent_directory = \"/home/jeannie/group/OvCa_Genomic_Data/WGS_merged/D327_r1PlfL1\"\n",
    "path_to_result_table = \"/home/jeannie/group/OvCa_Genomic_Data/WGS_merged/D327_r1PlfL1/D327_r1PlfL1_output/D327_r1PlfL1_classification/D327_r1PlfL1_result_table.tsv\"\n",
    "result_table_df = pd.read_csv(path_to_result_table, sep='\\t')\n",
    "result_table_df = result_table_df[result_table_df['Classification'] == amp_type]\n",
    "filtered_amplicons = list(result_table_df.loc[:, 'AA amplicon number'])\n",
    "\n",
    "path_to_bed_folder = \"/home/jeannie/group/OvCa_Genomic_Data/WGS_merged/D327_r1PlfL1/D327_r1PlfL1_output/D327_r1PlfL1_classification/D327_r1PlfL1_classification_bed_files\"\n",
    "path_to_bam_file = \"/home/jeannie/group/OvCa_Genomic_Data/WGS_merged/D327_r1PlfL1/D327_r1PlfL1_output/D327_r1PlfL1.cs.rmdup.bam\"\n",
    "\n",
    "try:\n",
    "    new_folder = os.path.join(parent_directory, sample + \"_\" + amp_type + \"_sequences\")\n",
    "    os.mkdir(new_folder)\n",
    "    print(\"Folder %s created!\" % new_folder)\n",
    "except FileExistsError:\n",
    "    print(\"Folder %s already exists.\" % new_folder)\n",
    "\n",
    "#for i in filtered_amplicons:\n",
    "path_to_bed_file = os.path.join(path_to_bed_folder, sample + \"_amplicon\" + str(filtered_amplicons[i]) + \"_\" + amp_type + \"_1_intervals.bed\")\n",
    "curr_bed = pd.read_csv(path_to_bed_file, sep='\\t', header=None)\n",
    "\n",
    "# create new folder and new files\n",
    "try:\n",
    "    amplicon_folder = os.path.join(new_folder, sample + \"_amplicon\" + str(filtered_amplicons[i]))\n",
    "    os.mkdir(amplicon_folder)\n",
    "    print(\"Folder %s created!\" % amplicon_folder)\n",
    "except FileExistsError:\n",
    "    print(\"Folder %s already exists.\" % amplicon_folder)\n",
    "\n",
    "new_bam = os.path.join(amplicon_folder, sample + \"_amplicon\" + str(filtered_amplicons[i]) + \".bam\")\n",
    "sorted_bam = os.path.join(amplicon_folder, sample + \"_amplicon\" + str(filtered_amplicons[i]) + \"_sorted.bam\")\n",
    "new_bam_index = sorted_bam + \".bai\"\n",
    "new_fq1 = os.path.join(amplicon_folder, sample + \"_amplicon\" + str(filtered_amplicons[i]) + \"_R1.fastq\")\n",
    "new_fq2 = os.path.join(amplicon_folder, sample + \"_amplicon\" + str(filtered_amplicons[i]) + \"_R2.fastq\")\n",
    "\n",
    "# extract all reads corresponding to the regions identified in the bed file\n",
    "with open(new_bam, 'wb') as out_bam:\n",
    "    bam_output = pysam.view(\"-b\", \"-h\", \"-M\", \"-L\", path_to_bed_file, path_to_bam_file)\n",
    "    out_bam.write(bam_output)\n",
    "\n",
    "pysam.sort(\"-o\", sorted_bam, new_bam) #sort by genomic coordinates\n",
    "pysam.index(sorted_bam, new_bam_index)\n",
    "\n",
    "with open(new_fq1, 'wb') as fq1, open(new_fq2, 'wb') as fq2:\n",
    "    pysam.fastq(\"-1\", new_fq1, \"-2\", new_fq2, sorted_bam)\n"
   ]
  },
  {
   "cell_type": "code",
   "execution_count": null,
   "id": "d91fbe8e-ed68-4583-98b5-37f4bb0b24b4",
   "metadata": {},
   "outputs": [],
   "source": []
  }
 ],
 "metadata": {
  "kernelspec": {
   "display_name": "Python 3 (ipykernel)",
   "language": "python",
   "name": "python3"
  },
  "language_info": {
   "codemirror_mode": {
    "name": "ipython",
    "version": 3
   },
   "file_extension": ".py",
   "mimetype": "text/x-python",
   "name": "python",
   "nbconvert_exporter": "python",
   "pygments_lexer": "ipython3",
   "version": "3.11.7"
  }
 },
 "nbformat": 4,
 "nbformat_minor": 5
}
